{
 "cells": [
  {
   "cell_type": "markdown",
   "metadata": {},
   "source": [
    "# Resume Matching Project"
   ]
  },
  {
   "cell_type": "markdown",
   "metadata": {},
   "source": [
    "## Importing Libraries"
   ]
  },
  {
   "cell_type": "code",
   "execution_count": 1,
   "metadata": {},
   "outputs": [
    {
     "name": "stderr",
     "output_type": "stream",
     "text": [
      "C:\\Users\\Devanand\\AppData\\Roaming\\Python\\Python311\\site-packages\\tqdm\\auto.py:21: TqdmWarning: IProgress not found. Please update jupyter and ipywidgets. See https://ipywidgets.readthedocs.io/en/stable/user_install.html\n",
      "  from .autonotebook import tqdm as notebook_tqdm\n"
     ]
    }
   ],
   "source": [
    "import PyPDF2 as ppd\n",
    "import torch\n",
    "from transformers import BertTokenizer, BertForMaskedLM\n",
    "from collections import Counter\n",
    "import re"
   ]
  },
  {
   "cell_type": "code",
   "execution_count": 2,
   "metadata": {},
   "outputs": [
    {
     "name": "stderr",
     "output_type": "stream",
     "text": [
      "Some weights of the model checkpoint at bert-base-uncased were not used when initializing BertForMaskedLM: ['cls.seq_relationship.bias', 'cls.seq_relationship.weight', 'bert.pooler.dense.weight', 'bert.pooler.dense.bias']\n",
      "- This IS expected if you are initializing BertForMaskedLM from the checkpoint of a model trained on another task or with another architecture (e.g. initializing a BertForSequenceClassification model from a BertForPreTraining model).\n",
      "- This IS NOT expected if you are initializing BertForMaskedLM from the checkpoint of a model that you expect to be exactly identical (initializing a BertForSequenceClassification model from a BertForSequenceClassification model).\n"
     ]
    }
   ],
   "source": [
    "model_name = \"bert-base-uncased\"\n",
    "tokenizer = BertTokenizer.from_pretrained(model_name)\n",
    "model = BertForMaskedLM.from_pretrained(model_name)"
   ]
  },
  {
   "cell_type": "code",
   "execution_count": 3,
   "metadata": {},
   "outputs": [],
   "source": [
    "def preprocess_text(text):\n",
    "    text = re.sub(r'[^a-zA-Z\\s]', '', text)  # Remove special characters\n",
    "    text = text.lower()  # Convert to lowercase\n",
    "    return text"
   ]
  },
  {
   "cell_type": "code",
   "execution_count": 7,
   "metadata": {},
   "outputs": [],
   "source": [
    "def extract_text_from_pdf(pdf_file_path):\n",
    "    with open(pdf_file_path, 'rb') as pdf_file:\n",
    "        pdf_reader = ppd.PdfReader(pdf_file)\n",
    "        text = \"\"\n",
    "        for page_number in range(len(pdf_reader.pages)):\n",
    "            page = pdf_reader.pages[page_number]\n",
    "            text += page.extract_text().lower()\n",
    "            # text += preprocess_text(page.extract_text())\n",
    "        return text"
   ]
  },
  {
   "cell_type": "code",
   "execution_count": 26,
   "metadata": {},
   "outputs": [],
   "source": [
    "resumes=[]\n",
    "pdf1 = 'Dataset/data/data/ACCOUNTANT/10554236.pdf'\n",
    "pdf2 = 'Dataset/data/data/ACCOUNTANT/10674770.pdf'\n",
    "pdf3 = 'Dataset/data/data/ACCOUNTANT/11163645.pdf'\n",
    "pdf4 = 'Dataset/data/data/ENGINEERING/10219099.pdf'\n",
    "resumes.append(extract_text_from_pdf(pdf1))\n",
    "resumes.append(extract_text_from_pdf(pdf2))\n",
    "resumes.append(extract_text_from_pdf(pdf3))\n",
    "resumes.append(extract_text_from_pdf(pdf4))"
   ]
  },
  {
   "cell_type": "code",
   "execution_count": 11,
   "metadata": {},
   "outputs": [
    {
     "data": {
      "text/plain": [
       "['accountant\\nsummary\\nfinancial accountant specializing in financial planning reporting and analysis within the department of defense\\nhighlights\\naccount reconciliations\\nresultsoriented\\nfinancial reporting\\ncritical thinking\\naccounting operations professional\\nanalysis of financial systems\\nerp enterprise resource planning software\\nexcellent facilitator\\naccomplishments\\nserved on a tiger team which identified and resolved general ledger postings in deams totaling b in accounting adjustments this allowed\\nfor the first successful fiscal yearend close for \\nin collaboration with dfas europe developed an automated tool that identified duplicate obligations this tool allowed hq usafe to\\ndeobligate over m in duplicate obligations\\nexperience\\ncompany name\\n \\njuly \\n \\nto \\nnovember \\n \\naccountant\\n \\ncity\\n \\n \\nstate\\nenterprise resource planning office ero\\nin this position as an accountant assigned to the defense enterprise accounting and management system deams ero i was\\nresponsible for identifying and resolving issues affecting the deams general ledger\\ni worked with teammates from the procure to pay orders to cash and budget to report areas to resolve daily challenges encountered\\nwith the deployment of deams to additional customers and when system change requests were promoted to production\\ni supported the testing of scripts patches and system change requests ensuring any anomalies were identified to the deams functional\\nmanagement office for action by the deams program management office andor the system integrator\\nin addition i served on a tiger team designed to identify and resolve general ledger posting differences and supported the development of\\nb in accounting adjustments allowing for the first successful fiscal yearend close in \\nthese actions also allowed for the reconciliation and closure of fiscal year  and  accounting adjustments ensuring that all deams\\nfiscal yearend requirements were completed\\nthese actions were recognized as critical to the successful review report issued by the air force operational test and evaluation center\\nafotec resulting in the air force receiving the authority to continue with the deployment of deams\\ncompany name\\n \\napril \\n \\nto \\njune \\n \\nresource advisor\\n \\ncity\\n \\n \\nstate\\nin this position as resource advisor for the st air communications operation squadron acos i was responsible for providing\\nfinancial advice and decision support to the commander\\ni was responsible for coordinating a m budget between four funding sources\\ni coordinated with usafe directorate of intelligence usafea usafe directorate of air and space operations usafea\\nusafe directorate of communications usafea and the th air ground operations wing to ensure acos meets its mission\\nrequirements\\ni consistently managed three separate timelines for providing budgetunfunded requirements providing documentation and various reports in\\nthe required format for each organization\\ni discussed the outcome of the group and directorate budget meetings providing feedback the same day to the flight chiefs and cc any\\nissue which affects acos directly\\ni monitored the defense travel system dts daily and identify orders and authorizations needing approval and provided notification to the\\nappropriate reviewing officials and approvers\\nutilizing dts and the general accounting and finance system i reviewed status reports to identify anomalies in obligations and have\\nidentified those orders which require correction prior to payment\\ni provided government purchase card gpc status reports the same day they are requested and in addition communicated with the\\nappropriate cardholders when changes were required to support their program\\ni identified cardholder training requirements and monitored these requirements to ensure all required training was completed in support of\\nthis mission critical program\\ni developed guidance for the gpc cardholders on procedures for requesting training for the squadron and in addition i provided answers to\\ncardholder questions on unique or nonstandard issuesconcernsassumed the role of the billing official during my final rating period and completed a self inspection of the program for the management\\ncontrol program zero findings\\nduring yearly audit by th cons received zero findings\\ncompany name\\n \\njuly \\n \\nto \\napril \\n \\nstaff accountant\\n \\ncity\\n \\n \\nstate\\nin my position as the staff accountant for hq usafe i was responsible for providing accounting and financial oversight and advice to\\ncustomers throughout the command in support of the usafe comptroller\\ni was responsible for performing ongoing analysis of financial programs to identify negative trends and weaknesses ensured specific\\nweaknesses were corrected and determined whether systemic or repeat issues were identified and adequately addressed\\ni was required to apply a comprehensive knowledge of analysisreporting requirements and data produced to resolve these issues\\nin collaboration with dfas europe developed an automated tool that identifies duplicate obligations by comparing records in the\\naccounting system to the contracting system and provided notification to the funds manager for review and resolution\\nthis tool eliminated hours of manual research and results allowed hq usafe to deobligate over m in duplicate obligations\\ni was responsible for establishing various performance metrics which ensured effective and efficient use of usafe financial resources\\ni supported the usafefma financial metrics program by collaborating with dfas limestone in the development of an automated tool\\nthat provided senior leaders with visibility to any usafe unit that is not in compliance with the established rules and regulations related to\\nthe gpc\\nthis tool provides management reports that are used to populate the monthly metric charts which are briefed by the usafefma\\nthis tool provided the capability for usafefma to collaborate with usafe contracting and developdeploy joint guidance that supports\\nthe established air force instruction mandating card suspension for card holders who are not in compliance with required reservation of\\nfunds in the entitlement system in support of the gpc\\ni identified and resolved a problem with five gpc accounts that had been rejecting during the automated interface process each month\\nmy research revealed that these accounts were rejecting for invalid paying station and required manual intervention by both wing and\\ndfas personnel\\nthis not only created rework it delayed the payment of the invoices\\ni partnered with dfas denver corrected the records in the access online accounts eliminating the error condition\\ni identified a method to deliver oneonone training in support of the usafe deployment of the open document analysis oda tool in\\nfmsuite\\nby utilizing defense connect online i \\nprovided training remotely virtually eliminating the need to expend funds on temporary duty tdy\\ntravel\\nthe results of this training produced results that went well above expectations and were noted by the oda program management office\\ncompany name\\n \\njanuary \\n \\nto \\njuly \\n \\nchief reports branch accounts maintenance and control\\n \\ncity\\n \\n \\nstate\\nin my position as chief of the reports branch in accounts maintenance  control amc i was responsible for ensuring the\\ndevelopment and standardization of various managerial and system reports\\ni was responsible for the completeness and accuracy of weekly monthly quarterly semiannual and annual reports\\nmy branch monitored errors in the general accounting and finance system gafsbq and ensured corrective actions were\\naccomplished\\ni also ensured fund balances were reconciled and reports were verified prior to release to base activities and higher headquarters\\nlimestone reorganized under the high performing organization hpo in january  and at that time i was reassigned to amc a\\ndirectorate which previously did not exist\\nmy challenge during that time was to staff my branch implement an aggressive training schedule and ensure the continuity of financial\\nreporting was maintained\\nas we transitioned into the hpo we continued defining the missions and functions for amc for the entire network\\ni participated in biweekly conference calls with standards and compliance in an effort to define missions and functions for amc\\nworked with management in determining ftes needed for the branch\\ni was responsible for developing meaningful performance standards for my employees since this branch and its functions did not previously\\nexist\\nlimestone poc for an initiative to eliminate suspense accounts throughout the agency\\nidentified suspense accounts not initially targeted formulated strategies to eliminate accounts or requested waivers and participated in plans\\nto modify processes using suspense accounts such as the interfund suspense account\\nthese actions provided initial progress towards meeting the department of treasurys mandate to discontinue suspense accounts by\\nfebruary \\nworked with staff to reduce reconciliations from  million in february  to  million in august accomplished this despite loss in\\nexperienced personnel and realigning resources to support critical initiatives in accounts payable\\ni orchestrated the transition of reporting requirements for the transportation financial management system tfms workload from dfas\\nomaha to limestone\\nafter transition to limestone encouraged staff responsible for these reports to streamline the processes\\nstaff automated a completely manual time consuming process thus eliminating potential key stroke errors and manually validating numerous\\nspreadsheets and listings\\ncontributor to federal managers financial integrity act fmfia compliance review and establishment of assessable unitsidentified inconsistencies in information provided by staff on foreign currency fluctuation adjustments\\npersisted in getting higher level review of regulatory and policy guidance\\nreport of foreign currency fluctuation is now consistently accurate\\ncompany name\\n \\nfebruary \\n \\nto \\njanuary \\n \\nchief accounts payable branch\\n \\ncity\\n \\n \\nstate\\nas chief of accounts payable \\ni was responsible for the overall management of a branch consisting of over  employees\\nmy four first line supervisors were responsible for establishing priorities schedules and work assignments ensuring changes in workload are\\naccounted for to minimize the impact on normal office operations\\nwe consistently reviewed these areas and made necessary personnel moves based on shifting priorities\\nthis was \\nextremely important during the dfas denver directed database consolidations and with the assumption of the air national guard\\nworkload\\nworkload increased rapidly while staffing increased gradually which dictated frequent priority changes and personnel moves\\ni also worked closely with the major commands supported by dfas limestone strengthening our partnership when workload spikes\\nnegatively impacted our customers\\nin december  our overaged invoice percentage was nearing  and we had a backlog of vendor pay documents exceeding \\nby working with the dfas command client executives and the major command comptrollers i was instrumental in forming a strategy\\nthat included soliciting air force personnel assistance in document processing identification of must pay now bills and the formation of\\nspecial action response teams dedicated to responding to our customers most urgent requirements\\nas a result of these efforts in a three month period we were able to reduce our overaged invoice percentage by  and our backlog of\\ndocuments to no documents over  days old thereby minimizing the adverse impact on customer funds\\ni was responsible for providing personnel feedback sessions quarterly and prepared supervisory appraisals of employees performance and\\npotential for advancement\\npartnering with the management staff and employees i was instrumental in establishing employee performance plans that linked employee\\nperformance to established dfas strategies and balance scorecard goals\\nin this position as a supervisory accountant i was responsible for performing ongoing analysis of the vendor pay workflow and production\\nto identify negative trends and weaknesses ensure specific weaknesses have been corrected and determine whether systemic or repeat\\nissues have been identified and adequately addressed\\ni was required to apply a comprehensive knowledge of analysisreporting requirements work processes vendor pay system structures and\\ndata produced to resolve these issues\\nutilizing my expertise with louis ii data retrieval software i produced adhoc data queries for inhouse and external use by our customers\\nthese retrievals were designed to reduce the man hours necessary to perform complex finance and accounting functions by dfas and air\\nforce personnel\\ni was responsible for the budget resources necessary to operate the branch\\nin this capacity i prepared budget over execution justifications plan and monitor overtime costs and control supply purchases to ensure the\\nmost cost efficient operation possible\\ni was required to respond to inquiries from various sources which include but are not limited to vendors dfas management accounting\\nliaison offices resource advisors and other dfas field sites\\nthese inquiries required my ability to relay technical aspects of systems deficiencies to customers who are not familiar with our operation\\ni participated in video teleconferences conference calls and briefings designed to address customer and dfas management requirements\\ni was called upon to explain in laymens terms dfas policy and procedures with regards to delays in payment due to various reasons\\ni responded to various audit reports and studies ensuring senior management and audit personnel understand particular situations within the\\nvendor pay business process that result in these findings\\ncompany name\\n \\nfebruary \\n \\nto \\nfebruary \\n \\nchief recon and reports branch\\n \\ncity\\n \\n \\nstate\\nin my position as chief vendor pay reports and recon branch i exercised supervision either directly or indirectly over  employees\\nprimarily in the  series in grades ranging from gs through gs\\nthis responsibility also included supervision of the german local national workers assigned to my duty section\\ni was responsible for planning directing and supervising the activities of the work force in the review interpretation processing and\\nreconciliation of vendor pay and accounting data and the production of timely and accurate financial statement report requirements\\ni participated in the development of branch policies continually reviewing and evaluating the organizational operations work distribution and\\nprocedures\\ni coordinated the activities of the assigned functions with those of other organizations to obtain the most effective correlation of financial\\ndata\\ndirected and provided technical guidance to subordinates in the assigned area\\nassured the timeliness and accuracy of assigned workload\\nplanned organized directed coordinated and reviewed the work of subordinates sections ensuring the mission and functions of the\\ndivision were carried out\\ni managed and realigned resources conducted program analyses and made decisions in accordance with unit cost principles outputs\\ntargets and changing budgetary constraints\\ni participated in long range planning goal setting and evaluating the subordinate staff\\ninterpreted and clarified branch policies and resolved operational problems\\nensured efficient utilization and professional development of my staffi was expected to provide reasonable assurance that operations were conducted in compliance with applicable laws and that funds\\nproperty and other assets were safeguarded against waste loss unauthorized use or misappropriation\\ni ensured continuing and affirmative application and support of dod and dfas policy concerning the equal opportunity and affirmative\\naction programs\\nensured personnel management within organizational entity under my supervision was accomplished without regard to race color religion\\nsex age national origin or handicap\\ni kept abreast of developments policy issuance and other similar material in the equal opportunity field and fully supported the dod and\\ndfas equal opportunity program\\ni was responsible and accountable for the safety and health of my subordinates\\ni ensured personnel were trained to work safely\\ni enforced safety and health rules corrected unsafe or unhealthy acts and unsafe or unhealthy mechanical or physical conditions investigated\\nmishaps and tool other actions necessary to ensure the safety and health of my employees\\ncompany name\\n \\njune \\n \\nto \\nfebruary \\n \\nchief accounts payable branch\\n \\ncity\\n \\n \\nstate\\ni was responsible for establishing priorities schedules and work assignments ensuring changes in workload are accounted for to minimize\\nthe impact on normal office operations\\nthis was important during the dfas denver directed workload realighment to the field sites servicing our customers by major command\\nworkload increased which dictated frequent priority changes and personnel moves\\ni also worked closely with the major commands supported by dfas limestone strengthening our partnership when workload spikes\\nnegatively impacted our customers\\ni was responsible for providing personnel feedback sessions quarterly and preparedsupervisory appraisals of employees performance and\\npotential for advancement\\nas a supervisory accountant i was responsible for performing ongoing analysis of the vendor pay workflow and production\\ni identified negative trends and weaknesses ensured specific weaknesses were corrected and determine whether systemic or repeat issues\\nwere identified and adequately addressed\\ni was required to apply a comprehensive knowledge of analysisreporting requirements work processes vendor pay system structures and\\ndata produced to resolve these issues\\nutilizing my knowledge with louis ii data retrieval software i produced adhoc data queries for inhouse and external use by our\\ncustomers\\nthese retrievals are all designed to reduce the man hours necessary to perform complex finance and accounting functions by dfas and\\nair force personnel\\ni was responsible for the budget resources necessary to operate the branch\\nin this capacity i prepared budget over execution justifications plan and monitor overtime costs and control supply purchases to ensure the\\nmost cost efficient operation possible\\ni was required to respond to inquiries from various sources which include but are not limited to vendors dfas management accounting\\nliaison offices resource advisors and other dfas field sites\\nthese inquiries require my ability to relay technical aspects of systems deficiencies to customers who are not familiar with our operation\\ni participated in video teleconferences conference calls and briefings designed to address customer and dfas management requirements\\ni was often called upon to explain in laymens terms dfas policy and procedures with regards to delays in payment due to various\\nreasons\\ni was required to respond to various audit reports and studies ensuring senior management and audit personnel understand particular\\nsituations within the vendor pay business process that result in these findings\\ni was hand selected by the field site director and vendor pay site manager to represent dfas limestone on a team comprised of\\nrepresentatives from all dfas denver field sites to provide training to our air force base level resource advisors\\nduring a five week period i provided boot camp training to over  base level personnel ensuring resource advisors were familiar with\\nthe dfas structure and mission requirements related to funds management\\ncompany name\\n \\njune \\n \\nto \\njune \\n \\naccountant network assistant team\\n \\ncity\\n \\n \\nstate\\nas a member of the network assistance team i was required to have an extensive working knowledge of dod accounting systems\\ntheory policy and procedures\\ni was consistently called upon to develop and implement procedures consistent with dod regulations\\ncoordinated with dfas denver and the omaha field site on the consolidation of the first geographically separated defense accounting\\noffice into dfas\\nin my position as a member of the network assistance team i was required upon arrival at each base level defense accounting office\\ndao to provide an inbrief\\nthis briefing identified team members the purpose of the visit goals and responsibilities\\nupon completion of the assignment provided a written and oral outbrief outlining the team accomplishments during the visit\\ni provided recommendations to preclude recurring problems and to prepare the organization for consolidation\\ncompany name\\n \\njune \\n \\nto \\njune \\n \\nsupervisor accounts control branch\\n \\ncity\\n \\n \\nstate\\ni directedsupervised the accomplishment of all financial reports and statementsi directedsupervised the accomplishment of all financial reports and statements\\ni was responsible for the completeness and accuracy of weekly monthly quarterly semiannual and annual reports\\nmonitored errors in the general accounting and finance system gafsbq and ensured corrective actions were accomplished\\ni also ensured fund balances were reconciled to the appropriate audit listings and verified reports prior to release to base activities and\\nhigher headquarters\\ni furnished accounting data to base organizations often interpreting and analyzing the data to help funds managers resolve problems and\\nmanage their programs more effectively\\ni attended major command majcom and headquarters level workshops to participate and contribute to accounting policy and system\\nchanges\\ni provided professional assistance to data automation relevant to processing of accounting and finance data interpreting deficiencies in\\nsoftware based on output products and system related problems\\ni utilized my working knowledge of commercial and government accounting system principles and knowledge of processing centers pcs\\nto review verify analyze and evaluate accounting and finance operations\\nwhile serving as chief account control i ensured areas of concern were addressed concentrating on problem areas related to the\\ndatabase\\ni analyzed computer output products to determine processing deficiencies\\nthey included but were not limited to the open document listing odl operating budget ledger obl allotment ledger al and\\nthe accounting and finance workload information management system af wims extract list\\ni provided technical assistance related to policy and procedural\\nchanges required as a result of the impending base closure\\nanalyzeddeveloped and recommended improved training procedures enabling better use of system procedures ensuring governing\\ndirectives were followed\\ni evaluated accuracy of accounting records prior to fiscal year closeout ensuring the accounting and finance officer could certify their\\naccuracy as required by regulation\\nexamined accounting transactions and documents to ensure they conformed to established accounting policy and principles\\ncoordinated and directed fiscal year end conversion for the gafs and integrated accounts payable system iaps\\neducation\\nnorthern maine community college\\n \\n\\n \\nassociate\\n \\n \\naccounting\\n \\ncity\\n \\n \\nstate\\n \\n \\nusa\\nemphasis in business\\n\\n \\nassociates\\n \\n \\naccounting\\n \\ncity\\n \\n \\nstate\\n \\n \\nusa\\n \\ngpa \\ngpa \\naccounting gpa   hours quarter\\nattended husson college major accounting  semester hours toward bachelors degree\\nprofessional military comptroller school wk  managerial accounting i  interestedbased bargaining training for management\\nhrs  auditing methods and concepts  organizational leadership hrs  management development ii hrs \\ncertifications\\ncertified defense financial manager cdfm may \\ninterests\\namerican society of military comptrollers\\nadditional information\\nskills\\naccounting general accounting accounts payable program management',\n",
       " 'staff accountant\\nsummary\\nhighly analytical and detailoriented professional possessing extensive financial statement background in quality assurance compliance auditing\\ncustomer service and regulatory requirements thorough knowledge of financial reporting cash and accrual basis accounting fund basis reporting\\ngaap and other accounting standards adapt quickly when new software and systems are installed proficient with quickbooks mas adp\\ncondo manager adobe and all microsoft applications software excel in problem solving and strategic planning skills\\nhighlights\\ndba \\nquick books mas  sage software \\nmicrosoft excel adp drive \\nmicrosoft access condo manager \\nmicrosoft word\\neducation\\nbachelor of science\\n \\n \\naccounting\\n \\n \\nmay \\n \\nuniversity of north carolina\\n \\n \\ncity\\n \\n \\nstate\\n \\naccounting\\nbachelor of science\\n \\n \\nbusiness administration finance\\n \\n \\nmay \\n \\nbusiness administration finance\\nexperience\\nstaff accountant\\n \\njanuary \\n \\nto \\noctober \\n \\ncompany name\\n \\n \\ncity\\n \\n \\nstate\\nperformed all month end functions to produce financial statements\\nthe functions include reconciliation of the operating and payroll bank accounts recorded sales for the month recorded payroll journals\\naccrued payroll recorded sales tax submitted sales tax to nc department of revenue recorded inventory adjustments and recorded\\nbalance sheet month end entries\\nentered all payables and receivables for the  franchise locations\\nworked with vendors to resolve any situations that arose\\nreviewed and maintained that all needed franchise document were on file and up to date\\nworked directly with controller on yearend review\\nassembled all requested financial and legal documentation that was put into presentable formats\\nmaintained weekly spreadsheet on collected franchise royalties and advertising fees\\nthis spreadsheet is used for the yearend audit\\nmanaged a company that owned and rented out  commercial properties of a shopping center to approved businesses\\nresponsible for negotiating rent rates for new or renewing tenants writing leases collecting rent cash flow management payables and\\nresolving any tenant complaints or inquires\\nmanaged a company that was a small farming entity\\nresponsible for maintaining cash flow all payables and setting up credit accounts with vendors\\nentered all payroll journals and maintained cash flow for company that employed labor to work at farming entity\\nfiled north carolina annual report for all companies managed by cary keisler inc\\nand verified that all were current on their filings\\nstaff accountant\\n \\nmarch \\n \\nto \\njanuary \\n \\ncompany name\\n \\n \\ncity\\n \\n \\nstate\\ncollect daily deposits for newly entered sos as well the balance for any so that has completed once a job status report has been ran\\ninteract directly with customers on outstanding deposits and balances due\\nresponsible for all po and non po payable entrycoding for all companies\\nwork directly with vendors to resolve and discrepancy with payables\\npull weeklyunpaid bills reports that are used for cash flow projections\\ncomplete weekly check run for all companies\\nreconcile monthly purchasing american express credit card that ranges from   \\nhelped facilitate roll of purchasing manager during turnover period from september   december \\nresponsible for ordering needed materialssupplies for factory production floor\\nworked directly with vp of finance and members of the production floor in collection of data to develop unit valuation\\nthis information combined with continued data collection is being used for future bills of materials and job costing\\nstaff accountant\\n \\napril \\n \\nto \\nmarch \\n \\ncompany name\\n \\n \\nstate\\nlead reconciliation of balance sheet to ensure no discrepancy with general ledger\\nresearch and resolve any transaction deviating from ordinary operations\\nrun project cost reconciliation at month end to ensure all billable expenses are posted to a project\\nthis ensures all enries are posted to the correct project and general ledger account\\nthis provides billing information as well as the correct bottom line for each project\\ndesign excel spreadsheet for prepaid employee benefits for eom reconciliation purposes\\nreconcile american express accounts for sdi and battleware\\n accounts responsible for all entry and custodial book keeping of sdis fixed assets for depreciation purposes\\ndaily reconciliation sdis operating interest sweep and line of credit accounts for most accurate cash projections\\nresponsible for coding and entry of all payables items for sdi and battleware\\nprepare monthly sales and use tax\\nfinancial management partner\\n july \\n \\nto \\naugust \\n \\ncompany name\\n \\n \\ncity\\n \\n \\nstate\\nidentified reported tracked and resolved subsidiary ledger discrepancies in all phases of the revenues and receivables accounting\\nprocesses\\nprovide an end to end financial statement assurance and accurate presentation by aiding and completing tasks in all areas of operations\\nperforming all monthly bank reconciliations applying all required financial regulations in preparing and delivery of financial statements\\nprovided support to clients and other employees via email on implementations software support and financial reporting issues in all aspects\\nof daytoday operations\\ntrained new accounting department employees with functionality demonstration to assist in proficient accounting support and software\\ntransitioning ie\\nquickbooks peachtree and excel transitioning\\nable to perform duties of all departments of accounting including accounts payable accounts receivable legal coordination and transactional\\naudit and review\\ncoordinate lien and foreclosure preparations research ownership status and balance histories in order to accurately file legal claims on\\nbehalf of our cliental\\nconstant analysis of all clients interim financial reports and comparative statements to verify the validity and monitor for inconsistency\\nprepare variance reports and explanations to quickly summarize areas of increased variances in expenses\\nassist other areas of management in fund accounting budget preparations and presentation at annual and monthly board meetings\\ncoordinate and prepare materials for audits review and tax returns\\nassist in annual budget preparations prepare billings for all cycles perform all adjusting month end transactions and required gl posting\\nentries required to correct errors or balance discrepancies\\ninterests\\nalpha sigma phi officer and chair positions \\njanuary  may  vice president social chair greek week delegate livestrong\\nfoundation bikeathon\\nskills\\naccounting accounts payable accounts receivable adp advertising ar balance sheet balance bank reconciliations benefits billing billings\\nbook keeping budget cash flow projections cash flow controller credit clients data collection delivery documentation email finance\\nfinancial financial reporting financial statements fixed assets general ledger inventory job costing ledger legal materials meetings microsoft\\naccess microsoft excel excel microsoft word negotiating dba payables payroll peachtree processes coding purchasing express quick\\nbooks quickbooks research sage sales spreadsheet tax software support valuation yearend\\nadditional information\\nactivities alpha sigma phi officer and chair positions \\njanuary  may  vice president social chair greek week delegate\\nlivestrong foundation bikeathon',\n",
       " 'accountant\\nprofessional summary\\nto obtain a position in a fastpaced business office environment demanding a strong organizational technical and interpersonal position utilizing\\nmy skills and attributes attributes selfmotivated and honest good work ethic effective working alone or as a cooperative team member reliable\\nand hardworking thorough in completing projects committed to excellent customer service\\ncore qualifications\\nintermediate word \\nadvanced excel \\npowerpoint intermediate access \\naccounts receivable \\naccounts payable \\nquickbooks enterprise \\noutlook\\ncustomer service\\nexperience\\naccountant\\n \\njanuary \\n \\nto \\nnovember \\n \\ncompany name\\n \\n \\ncity\\n \\n \\nstate\\nprocessed accounts receivables payments received by ach lockbox credit card and checks\\nmaintained all banking activity\\ndocumented all loan and other payments to the proper gl accounts\\nreview and maintain all positive pay processing with the bank\\nreview and processed accounts payables reports\\nprocessed all accounts payables by check domestic and international wires ach and credit card\\nreconcile all bank statements\\nmaintained all credit card activity for all credit card holders documented transactions to the proper gl accounts\\ncalculate and process all sales quarterly commission reports\\nreview and complete all credit checks and reference checks on new customers\\nmaintain and file the quarterly reports for the job development credit with the state of south carolina\\norder passports and visas for international travel\\naccounts receivable clerk\\n \\njanuary \\n \\nto \\njanuary \\n \\ncompany name\\n \\n \\ncity\\n \\n \\nstate\\nperformed data entry\\nprocessed accounts receivable payments\\nreconciled delivery drivers cash and checks with daily invoices\\ncorresponded with customers through email and phone calls on overdue invoices\\nsent biweekly and monthly statements\\ncreated and maintained monthly inventory depletion and sales reports to suppliers\\nbalanced and solved problems with customers accounts\\nfiled customer and suppliers invoices\\nran daily trial balance\\nran the end of day closing reports\\nmortgage underwriter\\n \\njanuary \\n \\nto \\njanuary \\n \\ncompany name\\n \\n \\ncity\\n \\n \\nstate\\nprocessed new residential mortgage loan submissions\\nprovided clear and consistent written and verbal communications with customersclients\\nprovided a strong analytical aptitude for reviewing credit reports bank statements preliminary title reports and appraisals\\ncorresponded with customers loan officers and account managers for information needed\\ncommercial auto underwriter\\n \\njanuary \\n \\nto \\njanuary \\n \\ncompany name\\n \\n \\ncity\\n \\n \\nstate\\nprocessed new business commercial auto applications and issued endorsements\\nperformed data entry reviewed applications loss runs and driving records\\nprovided clear and consistent written and verbal communications with customersbrokers\\ngail l\\nlugo \\npage  \\npersonal auto underwriter\\n \\njanuary \\n \\nto \\njanuary \\n \\ncompany name\\n \\n \\ncity\\n \\n \\nstate\\nprocessed new business renewals and endorsements\\nperformed data entry reviewed applications loss runs and driving records\\nprocessed account receivable premium checks for insurance premiums\\nconsistently resolved and answered customer concerns and questions by properly and promptly reviewing policies endorsements and\\npremium payments\\nclaims examiner\\n \\njanuary \\n \\nto \\njanuary \\n \\ncompany name\\n \\n \\ncity\\n \\n \\nstatetrained coworkers on multiple tasks and administrative functions\\nreviewed medical records and made decisions regarding disability payments\\nperformed data entry\\ncreated designed and maintained various insurance documents which complied with truth and lending regulations\\nresponded to and resolved all customer inquiries via telecommunications and written correspondence\\ndeveloped and maintained measures of selfdirected team performance which improved workflow\\nconsistently exceeded company goal of required number of paid claims per hour\\nperformed journal entries and ledger postings\\nreconciled bank statements budget accounts and accounts receivablepayable records\\nrapidly promoted from level i to level iii within a oneyear period due to excellent work performance\\neducation\\ncomputer applications specialist certificate program\\n \\n \\n\\n \\nmartinez adult education business training center\\n \\n \\ncity\\n \\n \\nstate\\nskills\\naccounts payables accounts receivables accounts payable accounts receivable administrative functions trial balance banking budget bi\\nclosing computer applications credit clients customer service data entry delivery driving email insurance inventory ledger access excel\\noutlook powerpoint word mortgage loan enterprise policies quickbooks sales sales reports telecommunications phone workflow\\nwritten']"
      ]
     },
     "execution_count": 11,
     "metadata": {},
     "output_type": "execute_result"
    }
   ],
   "source": [
    "resumes"
   ]
  },
  {
   "cell_type": "code",
   "execution_count": 28,
   "metadata": {},
   "outputs": [
    {
     "name": "stdout",
     "output_type": "stream",
     "text": [
      "142\n"
     ]
    },
    {
     "data": {
      "text/plain": [
       "\"equipment engineering technician\\nprofessional summary\\nskilledâ maintenance mechanicâ technician with superb problem solving and multi-tasking skills. self-directed and motivated worker. to obtain\\na position where teamwork, integrity and proffesionalism are a high standard in the company's mission statement. all while engaing in new\\nchallenges and learning experiences.\\nskills\\nâ·â â 20 years of material management experienceâ  with state and federal government â· 13\\nyears of law enforcement experience with the united states marine corps and army national\\nguard. \\nâ·â knowledge of mechanical test equipment. \\nâ· work from written/verbal instructions, schematics, rough sketches, troubleshooting diagrams,\\nlayouts and plans, interpretation and application of technical knowledge and understanding of\\nmechanical theory and principles.\\nâ· proficient in the use of pc's, msâ \\noffice, 10key by touch and customer\\nservice skills. \\nâ·â forklift and crane certified\\nâ·â self motivated to lead and achieve\\ncompany goals with excellence, integrity\\nand efficiency. \\nâ· ndt level ii\\nâ â· knowledge on mechanical, pneumatic\\nand hydraulic theory and principlesâ â \\nwork history\\nequipment engineering technician\\n \\n05/2014\\n \\nto \\ncurrent\\n \\ncompany name\\n \\nâ€“ \\ncity\\n \\n, \\nstate\\n \\nresponsibility for designing/selecting robotic systems, run simulation, implementation, commission and programming.\\nsupport and assist maintenance team in troubleshooting difficult breakdowns and chronic equipment failures.\\nconduct the installation of factory automation and electrical control systems for manufacturing equipment provide troubleshooting of\\nelectrical systems in plant manufacturing equipment provide effective direction, coaching, and ojt to fellow employees on shift to boost\\ntheir skill sets, and help production achieve their goals.\\nplan and organize between shift and weekend work, including verification, for smooth operations.\\nassist the supervisor in developing pms and procedures for maintaining all of the equipment in the shop.\\nprovide shift- to-shift communication in order to keep all associates up to speed and working toward the same goals.\\nset an example, and ensure that all associates comply with safety regulations and the plant's safety program.\\nwork with engineers and fellow technicians to resolve technical problems.\\nassist in candidate selection as requested.\\nmaintain departmental records maintain spare parts inventory.\\nidentify and order needed parts, maintain tracking system.\\nperform other duties as assigned by the supervisor and manager.\\nmechanical technician\\n \\n04/2013\\n \\nto \\n05/2014\\n \\ncompany name\\n \\nâ€“ \\ncity\\n \\n, \\nstate\\n \\nimplement repair services on all production equipment, auxiliary equipment and building equipment using hand tools, testing tools, manual\\ndrawings, computer and any other tools necessary to accomplish the task.\\nprovide reliable, high quality customer support through on-site inspecting, installing, repairing and/or replacing fire alarm equipment as well\\nas conducting preventive maintenance services pertaining to many different manufacturers equipment.\\nensure conveyor belts working effectively\\noperating engineer / test technician\\n \\n11/2007\\n \\nto \\n06/2012\\n \\ncompany name\\n \\nâ€“ \\ncity\\n \\n, \\nstate\\n \\noperates, repair and maintain facility/plant machinery, test equipment, lubrication and cooling systems and high pressure systems for\\nnasa unitary wind tunnels.\\nconstructs, modifies, maintains and services wind and propulsion tunnel research facilities used to test models of aircraft components,\\nutilizing knowledge of engineering test methods and procedures.\\ninstalls and aligns mechanical hydraulic and pneumatic test equipment and models on support structures.\\ninstalls instrumentation, thermocouples and pressure taps on model and test equipment.\\ninspects test setup and operates equipment to detect and correct malfunctions.\\nmaintains instrumentation equipment and accessories for pressure valves, icing indicators, drive units, spray units, and pumps.\\nconfers with engineering and other personnel during testing and modifies model, test support structure, or test equipment as directed.\\ninspect, test, and install fire sprinkler systems, standpipe systems, fire pumps, and clean agent systems at various industrial, commercial and\\ninstitutional facilities in accordance with various codes.\\nperform inspections, test and repair/replace fire hoses and fire hydrants.\\ngenerate reports based on inspection findings.\\nlogistics coordinator / sr. lab technician\\n \\n10/2006\\n \\nto \\n11/2007\\n \\ncompany name\\n \\nâ€“ \\ncity\\n \\n, \\nstate\\n \\ncoordinates all incoming and outgoing shipments of solar arrays, panels, shipping containers and ground support equipment.interfaces with metrology personnel to ensure calibrated equipment needs are prioritized and maintains inventory of the section's calibrated\\nequipment.\\nsupports work in progress, troubleshoots manufacturing problems caused by test equipment.\\ncoordinates proof loading and non-destructive testing of lifting fixtures and handling equipment.\\nmaintains inventory of industrial supplies.\\ndisposes of hazardous materials and coordinates area compliance.\\nunderstands and follows the 20 elements of iso 9001.\\nproduction control analyst\\n \\n11/2004\\n \\nto \\n05/2006\\n \\ncompany name\\n \\nâ€“ \\ncity\\n \\n, \\nstate\\n \\nexpedites materials through production processes, coordinates actions with other departments, verifies kit hardware completeness and\\nconfiguration, requests drawings and materials to be issued from stores.\\nresolves aging work orders, generates non-conforming material reports (ncmr's).\\ninterfaces with process engineers, manufacturing operators and supervisors to control and analyze the movement of production.\\nresolves complex constraints for any wip that may cause schedule delays, problem solve all audit issue on work centers.\\nperform internal and external expediting of critical parts and initiate and process scrap tags, and process miscellaneous issue requests.\\nextensive use of the promis software.\\ntrains new hires in class 100 clean room protocol and enforces violations.\\nprocurement of all clean room articles and consumables with outside vendors.\\nsupervises courier team of 5 to ensure proper transport of company assets from site to site.\\nmaterial/production planner\\n \\n07/2001\\n \\nto \\n02/2004\\n \\ncompany name\\n \\nâ€“ \\ncity\\n \\n, \\nstate\\n \\nexpedites materials through production processes, coordinates actions with other departments, verifies kit hardware completeness and\\nconfiguration, requests drawings and materials to be issued from stores.\\nresolves aging work orders, generates non-conforming material reports (ncmr's), and generates shipping packing lists and invoice\\ndocuments.\\nresponsible for scheduling, releasing, updating, and closing work orders in a timely manner.\\nreports oral and written status of work progress to internal customers.\\ninterfaces with all operations functions\\neducation\\ngeneral courses\\n \\n: \\nmonterey peninsula college\\n \\n- \\ncity\\n \\n, \\nstate\\ntechnical diploma\\n \\n: \\nsan francisco police academy\\n \\n- \\ncity\\n \\n, \\nstate\\naccomplishments\\nwrites dsn's for over shipment, wrong parts, and or no certification.\\ncompletes memo receivers for parts with no po reference or those returned for repair.\\ncoordinates efficient flow of materials and analyzes required capacity in processes with involved departments to ensure a smooth and timely\\noperation.\\nextensive use in all microsoft office applications and the following software: wds, lss, cavs ii.\\nskills\\nautomation, closing, coaching, oral, hardware, customer support, designing, direction, hand tools, inventory, iso 9001, machinery, materials,\\nmechanical, personnel, processes, procurement, programming, progress, quality, quality control, receiving, repairs, repairing, research, robotic\\nsystems, safety, scheduling, shipping, simulation, supervisor, test equipment, troubleshooting, written, articles\""
      ]
     },
     "execution_count": 28,
     "metadata": {},
     "output_type": "execute_result"
    }
   ],
   "source": [
    "page = resumes[3]\n",
    "skills_index = page.find('skills')\n",
    "print(skills_index)\n",
    "page"
   ]
  },
  {
   "cell_type": "markdown",
   "metadata": {},
   "source": [
    "### For skills extraction"
   ]
  },
  {
   "cell_type": "code",
   "execution_count": 22,
   "metadata": {},
   "outputs": [],
   "source": [
    "import pandas as pd\n",
    "import spacy\n",
    "\n",
    "# Load the spaCy English model\n",
    "nlp = spacy.load('en_core_web_sm')\n",
    "\n",
    "def extract_skills(resume_text):\n",
    "    nlp_text = nlp(resume_text)\n",
    "\n",
    "    # Removing stop words and implementing word tokenization\n",
    "    tokens = [token.text for token in nlp_text if not token.is_stop]\n",
    "    \n",
    "    # Read the CSV file containing skills data\n",
    "    data = pd.read_csv(\"skills.csv\") \n",
    "    \n",
    "    # Extract skill values from the CSV file\n",
    "    skills = list(data.columns.values)\n",
    "    \n",
    "    skillset = []\n",
    "    \n",
    "    # Check for one-grams (example: python)\n",
    "    for token in tokens:\n",
    "        if token.lower() in skills:\n",
    "            skillset.append(token)\n",
    "    \n",
    "    # Check for bi-grams and tri-grams (example: machine learning)\n",
    "    for chunk in nlp_text.noun_chunks:\n",
    "        chunk_text = chunk.text.lower().strip()\n",
    "        if chunk_text in skills:\n",
    "            skillset.append(chunk_text)\n",
    "    \n",
    "    return [i.capitalize() for i in set([i.lower() for i in skillset])]\n"
   ]
  },
  {
   "cell_type": "code",
   "execution_count": 30,
   "metadata": {},
   "outputs": [
    {
     "data": {
      "text/plain": [
       "'equipment engineering technician'"
      ]
     },
     "execution_count": 30,
     "metadata": {},
     "output_type": "execute_result"
    }
   ],
   "source": [
    "job_role = ''\n",
    "for i in page:\n",
    "    if i == '\\n':\n",
    "        break\n",
    "    job_role += i\n",
    "\n",
    "job_role"
   ]
  },
  {
   "cell_type": "code",
   "execution_count": 31,
   "metadata": {},
   "outputs": [],
   "source": [
    "import re\n",
    "\n",
    "def extract_education(text):\n",
    "    # Define a regex pattern to match education details\n",
    "    education_pattern = r\"(\\b[\\w\\s]+[\\.,]?\\s+(?:University|College|School|Institute)[\\w\\s]*[\\.,]?)\\s+(\\b[\\w\\s]+[\\.,]?\\s+(?:Degree|Diploma|Certificate)[\\w\\s]*[\\.,]?)\"\n",
    "\n",
    "    # Search for education details in the text\n",
    "    education_matches = re.findall(education_pattern, text, re.IGNORECASE)\n",
    "\n",
    "    # Extracted education details\n",
    "    education_details = [match for match in education_matches]\n",
    "\n",
    "    return education_details\n"
   ]
  },
  {
   "cell_type": "code",
   "execution_count": 32,
   "metadata": {},
   "outputs": [
    {
     "data": {
      "text/plain": [
       "[]"
      ]
     },
     "execution_count": 32,
     "metadata": {},
     "output_type": "execute_result"
    }
   ],
   "source": [
    "education_details = extract_education(page)\n",
    "education_details"
   ]
  },
  {
   "cell_type": "code",
   "execution_count": 29,
   "metadata": {},
   "outputs": [
    {
     "data": {
      "text/plain": [
       "['Logistics',\n",
       " 'Coaching',\n",
       " 'Repairs',\n",
       " 'Scheduling',\n",
       " 'Hardware',\n",
       " 'Schematics',\n",
       " 'Operations',\n",
       " 'Research',\n",
       " 'Process',\n",
       " 'Electrical',\n",
       " 'Internal customers',\n",
       " 'Vendors',\n",
       " 'Instrumentation',\n",
       " 'Transport',\n",
       " 'Supervisor',\n",
       " 'Communication',\n",
       " 'Programming',\n",
       " 'System',\n",
       " 'Regulations',\n",
       " 'Engineering',\n",
       " 'Installation',\n",
       " 'Testing',\n",
       " 'Safety',\n",
       " 'Reports',\n",
       " 'Compliance',\n",
       " 'Analyze',\n",
       " 'Procurement',\n",
       " 'Plan',\n",
       " 'Certification',\n",
       " 'Technical',\n",
       " 'Automation',\n",
       " 'Iso',\n",
       " 'Requests',\n",
       " 'Technical knowledge',\n",
       " 'Inventory',\n",
       " 'Audit',\n",
       " 'Schedule',\n",
       " 'Troubleshooting']"
      ]
     },
     "execution_count": 29,
     "metadata": {},
     "output_type": "execute_result"
    }
   ],
   "source": [
    "skills = []\n",
    "skills = extract_skills(page)\n",
    "skills"
   ]
  }
 ],
 "metadata": {
  "kernelspec": {
   "display_name": "Python 3",
   "language": "python",
   "name": "python3"
  },
  "language_info": {
   "codemirror_mode": {
    "name": "ipython",
    "version": 3
   },
   "file_extension": ".py",
   "mimetype": "text/x-python",
   "name": "python",
   "nbconvert_exporter": "python",
   "pygments_lexer": "ipython3",
   "version": "3.11.4"
  },
  "orig_nbformat": 4
 },
 "nbformat": 4,
 "nbformat_minor": 2
}
